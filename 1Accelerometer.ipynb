{
  "nbformat": 4,
  "nbformat_minor": 0,
  "metadata": {
    "colab": {
      "provenance": [],
      "authorship_tag": "ABX9TyPJ6UJKv9h+mf8Enk8f+I4t",
      "include_colab_link": true
    },
    "kernelspec": {
      "name": "python3",
      "display_name": "Python 3"
    },
    "language_info": {
      "name": "python"
    }
  },
  "cells": [
    {
      "cell_type": "markdown",
      "metadata": {
        "id": "view-in-github",
        "colab_type": "text"
      },
      "source": [
        "<a href=\"https://colab.research.google.com/github/vkjadon/IMU/blob/master/1Accelerometer.ipynb\" target=\"_parent\"><img src=\"https://colab.research.google.com/assets/colab-badge.svg\" alt=\"Open In Colab\"/></a>"
      ]
    },
    {
      "cell_type": "markdown",
      "source": [
        "# MEMS Accelerometer\n",
        "\n",
        "MEMS stands for Micro Electro MEchanical Systems. These are small silicon devices eqiuvalent to mechanical system.\n",
        "\n",
        "<img src=\"https://vijayonline.in/images/imu/spring-mass.png\" width=\"50%\">\n",
        "\n",
        "Accelerometer measure linear acceleration.\n"
      ],
      "metadata": {
        "id": "sKWQ4gic0vmW"
      }
    },
    {
      "cell_type": "code",
      "source": [],
      "metadata": {
        "id": "D0Gy52YYLxRH"
      },
      "execution_count": null,
      "outputs": []
    }
  ]
}