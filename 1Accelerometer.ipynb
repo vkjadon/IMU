{
  "nbformat": 4,
  "nbformat_minor": 0,
  "metadata": {
    "colab": {
      "provenance": [],
      "authorship_tag": "ABX9TyOyweILTYl5uo5/OH+k1HBB",
      "include_colab_link": true
    },
    "kernelspec": {
      "name": "python3",
      "display_name": "Python 3"
    },
    "language_info": {
      "name": "python"
    }
  },
  "cells": [
    {
      "cell_type": "markdown",
      "metadata": {
        "id": "view-in-github",
        "colab_type": "text"
      },
      "source": [
        "<a href=\"https://colab.research.google.com/github/vkjadon/IMU/blob/master/1Accelerometer.ipynb\" target=\"_parent\"><img src=\"https://colab.research.google.com/assets/colab-badge.svg\" alt=\"Open In Colab\"/></a>"
      ]
    },
    {
      "cell_type": "markdown",
      "source": [
        "# Accelerometer\n",
        "\n",
        "<img src=\"https://vijayonline.in/images/imu/spring-mass.png\" width=\"50%\">\n"
      ],
      "metadata": {
        "id": "sKWQ4gic0vmW"
      }
    },
    {
      "cell_type": "code",
      "source": [],
      "metadata": {
        "id": "D0Gy52YYLxRH"
      },
      "execution_count": null,
      "outputs": []
    }
  ]
}